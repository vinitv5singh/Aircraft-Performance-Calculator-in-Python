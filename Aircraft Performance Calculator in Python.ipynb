{
 "cells": [
  {
   "cell_type": "code",
   "execution_count": null,
   "id": "6ed0e05c-0733-4a35-81dd-ee82735974dd",
   "metadata": {},
   "outputs": [],
   "source": [
    "# Aircraft Performance Calculator"
   ]
  },
  {
   "cell_type": "code",
   "execution_count": 1,
   "id": "3e76e168-af41-44d5-89a3-2d5a5569249f",
   "metadata": {},
   "outputs": [],
   "source": [
    "def calculate_total_weight(payload, fuel_weight):\n",
    "    return operating_empty_weight + payload + fuel_weight\n"
   ]
  },
  {
   "cell_type": "code",
   "execution_count": 2,
   "id": "594ff0c6-9207-4f6e-a80c-186bf02e2003",
   "metadata": {},
   "outputs": [],
   "source": [
    "def calculate_cg_position(moment_list, total_weight):\n",
    "    total_moment = sum(moment_list)\n",
    "    return total_moment / total_weight"
   ]
  },
  {
   "cell_type": "code",
   "execution_count": 3,
   "id": "f6dca9e0-a48e-4baa-a4c8-2f85222fd20c",
   "metadata": {},
   "outputs": [],
   "source": [
    "def calculate_moment(weight, arm):\n",
    "    return weight * arm"
   ]
  },
  {
   "cell_type": "code",
   "execution_count": 4,
   "id": "295a7128-a35a-408e-8dcc-eb25be495d0d",
   "metadata": {},
   "outputs": [],
   "source": [
    "def calculate_lift(cl, rho, v, s):\n",
    "    return 0.5 * cl * rho * v**2 * s\n",
    "\n",
    "def calculate_drag(cd, rho, v, s):\n",
    "    return 0.5 * cd * rho * v**2 * s\n",
    "\n",
    "def calculate_weight(mass, g):\n",
    "    return mass * g\n",
    "\n",
    "def calculate_acceleration(thrust, drag, weight, mass):\n",
    "    return (thrust - drag - weight) / mass\n",
    "\n",
    "def calculate_velocity(velocity, acceleration, time):\n",
    "    return velocity + acceleration * time\n",
    "\n",
    "def calculate_distance(velocity, time):\n",
    "    return velocity * time\n"
   ]
  },
  {
   "cell_type": "code",
   "execution_count": 5,
   "id": "64cc2766-d224-408e-a939-1e15dcd096ea",
   "metadata": {},
   "outputs": [],
   "source": [
    "def calculate_range(fuel_capacity, fuel_consumption_rate, true_air_speed):\n",
    "    range_in_hours = fuel_capacity / fuel_consumption_rate\n",
    "    range_in_miles = range_in_hours * true_air_speed\n",
    "    return range_in_miles\n",
    "\n",
    "def calculate_endurance(fuel_capacity, fuel_consumption_rate):\n",
    "    endurance_in_hours = fuel_capacity / fuel_consumption_rate\n",
    "    return endurance_in_hours\n"
   ]
  },
  {
   "cell_type": "code",
   "execution_count": 6,
   "id": "89155fb1-c58e-4144-aba6-f0420cfb84ee",
   "metadata": {},
   "outputs": [],
   "source": [
    "# Pre-defined variable values\n",
    "fuel_capacity = 1000  # gallons\n",
    "fuel_consumption_rate = 50  # gallons per hour\n",
    "true_air_speed = 150  # knots\n",
    "payload = 5000  # pounds\n",
    "fuel_weight = 6000  # pounds\n",
    "moment_list = [10000, 2500]  # pound-feet\n",
    "total_weight = 1500  # pounds\n",
    "cl = 1.5  # lift coefficient\n",
    "rho = 1.225  # air density in kg/m^3\n",
    "v = 100  # velocity in m/s\n",
    "s = 20  # wing area in m^2\n",
    "cd = 0.02  # drag coefficient\n",
    "mass = 5000  # mass in kg\n",
    "g = 9.81  # acceleration due to gravity in m/s^2\n",
    "thrust = 6000  # thrust in N\n",
    "drag = 5000  # drag in N\n",
    "velocity = 50  # initial velocity in m/s\n",
    "acceleration = 2  # acceleration in m/s^2\n",
    "time = 10  # time in seconds\n"
   ]
  },
  {
   "cell_type": "code",
   "execution_count": 7,
   "id": "69916ea6-81a6-4dc6-a05f-1903c43aca7b",
   "metadata": {},
   "outputs": [],
   "source": [
    "# Helper function to pretty print performance data\n",
    "def pretty_print(range_, endurance, total_weight, cg_position, lift, drag, weight, acceleration, velocity, distance):\n",
    "    print(\"Performance Calculations:\")\n",
    "    print(\"Range: {} miles\".format(range_))\n",
    "    print(\"Endurance: {} hours\".format(endurance))\n",
    "    print(\"Total Weight: {} pounds\".format(total_weight))\n",
    "    print(\"Center of Gravity Position: {} feet\".format(cg_position))\n",
    "    print(\"Lift: {} Newtons\".format(lift))\n",
    "    print(\"Drag: {} Newtons\".format(drag))\n",
    "    print(\"Weight: {} Newtons\".format(weight))\n",
    "    print(\"Acceleration: {} m/s^2\".format(acceleration))\n",
    "    print(\"Velocity: {} m/s\".format(velocity))\n",
    "    print(\"Distance: {} meters\".format(distance))\n"
   ]
  },
  {
   "cell_type": "code",
   "execution_count": 10,
   "id": "baf721d6-0008-49e1-8af5-186489f8e9ed",
   "metadata": {},
   "outputs": [],
   "source": [
    "def calculate_range(fuel_capacity, fuel_consumption_rate, true_air_speed):\n",
    "    range_in_hours = fuel_capacity / fuel_consumption_rate\n",
    "    range_in_miles = range_in_hours * true_air_speed\n",
    "    return range_in_miles\n",
    "\n",
    "# Function to calculate endurance\n",
    "def calculate_endurance(fuel_capacity, fuel_consumption_rate):\n",
    "    endurance_in_hours = fuel_capacity / fuel_consumption_rate\n",
    "    return endurance_in_hours\n",
    "\n",
    "# Function to calculate total weight\n",
    "def calculate_total_weight(payload, fuel_weight):\n",
    "    return payload + fuel_weight\n",
    "\n",
    "# Function to calculate center of gravity position\n",
    "def calculate_cg_position(moment_list, total_weight):\n",
    "    total_moment = sum(moment_list)\n",
    "    cg_position = total_moment / total_weight\n",
    "    return cg_position\n",
    "\n",
    "# Function to calculate moment\n",
    "def calculate_moment(weight, arm):\n",
    "    return weight * arm\n",
    "\n",
    "# Function to calculate lift\n",
    "def calculate_lift(cl, rho, v, s):\n",
    "    return 0.5 * cl * rho * v**2 * s\n",
    "\n",
    "# Function to calculate drag\n",
    "def calculate_drag(cd, rho, v, s):\n",
    "    return 0.5 * cd * rho * v**2 * s\n",
    "\n",
    "# Function to calculate weight\n",
    "def calculate_weight(mass, g):\n",
    "    return mass * g\n",
    "\n",
    "# Function to calculate acceleration\n",
    "def calculate_acceleration(thrust, drag, weight, mass):\n",
    "    return (thrust - drag - weight) / mass\n",
    "\n",
    "# Function to calculate velocity\n",
    "def calculate_velocity(velocity, acceleration, time):\n",
    "    return velocity + acceleration * time\n",
    "\n",
    "# Function to calculate distance\n",
    "def calculate_distance(velocity, time):\n",
    "    return velocity * time\n"
   ]
  },
  {
   "cell_type": "code",
   "execution_count": 11,
   "id": "b8cab0af-c550-4f5e-b42c-5a3c1c8b23df",
   "metadata": {},
   "outputs": [
    {
     "name": "stdout",
     "output_type": "stream",
     "text": [
      "Performance Calculations:\n",
      "Range: 3000.0 miles\n",
      "Endurance: 20.0 hours\n",
      "Total Weight: 11000 pounds\n",
      "Center of Gravity Position: 1.1363636363636365 feet\n",
      "Lift: 183750.0 Newtons\n",
      "Drag: 2450.0 Newtons\n",
      "Weight: 49050.0 Newtons\n",
      "Acceleration: -9.1 m/s^2\n",
      "Velocity: -41.0 m/s\n",
      "Distance: -410.0 meters\n"
     ]
    }
   ],
   "source": [
    "range_ = calculate_range(fuel_capacity, fuel_consumption_rate, true_air_speed)\n",
    "endurance = calculate_endurance(fuel_capacity, fuel_consumption_rate)\n",
    "total_weight = calculate_total_weight(payload, fuel_weight)\n",
    "cg_position = calculate_cg_position(moment_list, total_weight)\n",
    "lift = calculate_lift(cl, rho, v, s)\n",
    "drag = calculate_drag(cd, rho, v, s)\n",
    "weight = calculate_weight(mass, g)\n",
    "acceleration = calculate_acceleration(thrust, drag, weight, mass)\n",
    "velocity = calculate_velocity(velocity, acceleration, time)\n",
    "distance = calculate_distance(velocity, time)\n",
    "\n",
    "pretty_print(range_, endurance, total_weight, cg_position, lift, drag, weight, acceleration, velocity, distance)\n"
   ]
  },
  {
   "cell_type": "code",
   "execution_count": 12,
   "id": "405a8425-f6e4-43cf-a217-d395c41685c2",
   "metadata": {},
   "outputs": [],
   "source": [
    "def save_info_to_file(range_, endurance, total_weight, cg_position, lift, drag, weight, acceleration, velocity, distance, file):\n",
    "    file.write(\"Performance Calculations:\\n\")\n",
    "    file.write(\"Range: {} miles\\n\".format(range_))\n",
    "    file.write(\"Endurance: {} hours\\n\".format(endurance))\n",
    "    file.write(\"Total Weight: {} pounds\\n\".format(total_weight))\n",
    "    file.write(\"Center of Gravity Position: {} feet\\n\".format(cg_position))\n",
    "    file.write(\"Lift: {} Newtons\\n\".format(lift))\n",
    "    file.write(\"Drag: {} Newtons\\n\".format(drag))\n",
    "    file.write(\"Weight: {} Newtons\\n\".format(weight))\n",
    "    file.write(\"Acceleration: {} m/s^2\\n\".format(acceleration))\n",
    "    file.write(\"Velocity: {} m/s\\n\".format(velocity))\n",
    "    file.write(\"Distance: {} meters\\n\".format(distance))\n"
   ]
  },
  {
   "cell_type": "code",
   "execution_count": 13,
   "id": "320f6eca-e464-4032-aa57-fdbc2b9de1fa",
   "metadata": {},
   "outputs": [],
   "source": [
    "with open('aircraft_performance_analysis.txt', 'w') as f:\n",
    "    save_info_to_file(range_, endurance, total_weight, cg_position, lift, drag, weight, acceleration, velocity, distance, file=f)\n"
   ]
  },
  {
   "cell_type": "code",
   "execution_count": null,
   "id": "9fa51734-29a6-449b-844e-28161b3c5426",
   "metadata": {},
   "outputs": [],
   "source": []
  }
 ],
 "metadata": {
  "kernelspec": {
   "display_name": "Python 3 (ipykernel)",
   "language": "python",
   "name": "python3"
  },
  "language_info": {
   "codemirror_mode": {
    "name": "ipython",
    "version": 3
   },
   "file_extension": ".py",
   "mimetype": "text/x-python",
   "name": "python",
   "nbconvert_exporter": "python",
   "pygments_lexer": "ipython3",
   "version": "3.12.5"
  }
 },
 "nbformat": 4,
 "nbformat_minor": 5
}
